{
  "nbformat": 4,
  "nbformat_minor": 0,
  "metadata": {
    "colab": {
      "provenance": [],
      "authorship_tag": "ABX9TyNS1FnnxJNb1nx9GayQ1Bd2",
      "include_colab_link": true
    },
    "kernelspec": {
      "name": "python3",
      "display_name": "Python 3"
    },
    "language_info": {
      "name": "python"
    }
  },
  "cells": [
    {
      "cell_type": "markdown",
      "metadata": {
        "id": "view-in-github",
        "colab_type": "text"
      },
      "source": [
        "<a href=\"https://colab.research.google.com/github/eric98040/Python-for-everyone-2022/blob/main/python_for_everyone_2021_jokbo.ipynb\" target=\"_parent\"><img src=\"https://colab.research.google.com/assets/colab-badge.svg\" alt=\"Open In Colab\"/></a>"
      ]
    },
    {
      "cell_type": "code",
      "execution_count": null,
      "metadata": {
        "id": "gtbU3yqp3V6E",
        "colab": {
          "base_uri": "https://localhost:8080/"
        },
        "outputId": "5f14ac05-d705-4989-c502-bf80c9f42064"
      },
      "outputs": [
        {
          "output_type": "stream",
          "name": "stdout",
          "text": [
            "더할 수를 입력하시오 (여러 개 입력가능) > 2 3\n",
            "입력한 수의 합계:  5\n",
            "13.957728399277759\n",
            "추첨을 통해 경품을 드립니다. \n",
            "준비가 되면 엔터키를 누르세요\n",
            "축하합니다. 여행용 티슈에 당첨되었습니다.\n",
            "* 수학 능력 테스트 * \n",
            "문제: 1\n",
            "1 + 1 = 5\n",
            "탈락입니다. \n",
            "\n",
            "읽을 txt파일을 입력하여 주십시오 >toyd\n",
            "toyd 파일이 없거나 잘못 입력하였습니다. 다시 확인하여 주십시오.\n"
          ]
        }
      ],
      "source": [
        "# number1\n",
        "\n",
        "def cal_sum(para) : \n",
        "    hap = 0\n",
        "    for i in para : \n",
        "        hap+=i\n",
        "    return hap\n",
        "\n",
        "input_list = list(map(int, input(\"더할 수를 입력하시오 (여러 개 입력가능) > \").split()))\n",
        "total = cal_sum(input_list)\n",
        "print(\"입력한 수의 합계: \", total)\n",
        "\n",
        "\n",
        "# number2\n",
        "\n",
        "from math import sqrt,pi\n",
        "print(sqrt(2)*(pi)**2)\n",
        "\n",
        "\n",
        "# number3 \n",
        "\n",
        "# Random choices\n",
        "# ▪random.choices(list, weights=[,,], k = n)\n",
        "# • weights: 배열에서 선택될 확률을 요소별로 지정, 상대 확률\n",
        "# • k = n: 선택할 n개의 수 지정\n",
        "\n",
        "\n",
        "import random\n",
        "input('추첨을 통해 경품을 드립니다. \\n준비가 되면 엔터키를 누르세요')\n",
        "product = ['여행용 티슈', '문화상품권 1만원', '스타벅스 상품권', '문화상품권 5만원', '아이패드' ] \n",
        "lucky_box = random.choices(product, weights=[50, 30, 5, 2, 1], k=1)\n",
        "print('축하합니다. %s에 당첨되었습니다.' % lucky_box[0])\n",
        "\n",
        "# answer : random.choices\n",
        "\n",
        "\n",
        "# 4번\n",
        "\n",
        "import random\n",
        "import time\n",
        "\n",
        "print(\"* 수학 능력 테스트 * \")\n",
        "\n",
        "탈락 = False\n",
        "i=1\n",
        "while not 탈락 : \n",
        "    start_time = time.time()\n",
        "    x = random.randint(1,i)\n",
        "    y = random.randint(1,i)\n",
        "    print('문제: {}'.format(i))\n",
        "    # answer : = 기호 뒤에 사용자가 입력하는 값\n",
        "    answer = int(input(\"{} + {} = \".format(x,y))) \n",
        "    end_time = time.time()\n",
        "    tot_time = end_time - start_time\n",
        "    if tot_time > 5 : \n",
        "        print(\"5초가 경과된 후 답안이 제출되었으므로 탈락입니다.\")\n",
        "    if answer  == x+y : \n",
        "        print(\"정답입니다. \\n\")\n",
        "        i+=1\n",
        "    else : \n",
        "        print(\"탈락입니다. \\n\")\n",
        "        탈락 = True\n",
        "        \n",
        "# 5번\n",
        "\n",
        "try :\n",
        "    name = input(\"읽을 txt파일을 입력하여 주십시오 >\")\n",
        "    with open(name,'r') as f : \n",
        "        text = f.read().split(' ')\n",
        "        print(\"{}에 포함된 총 단어 수는 약 {}개 입니다.\".format((name),len(text)))\n",
        "            \n",
        "except FileNotFoundError :\n",
        "    print(f\"{name} 파일이 없거나 잘못 입력하였습니다. 다시 확인하여 주십시오.\")\n",
        "    \n",
        "\n",
        "\n"
      ]
    },
    {
      "cell_type": "code",
      "source": [
        "# 6번\n",
        "from tkinter import *\n",
        "from tkinter import messagebox\n",
        "window = question = yesdialog = nodialog = None\n",
        "\n",
        "\n",
        "def setupGUI() : \n",
        "    global window\n",
        "    window = Tk()\n",
        "    window.title('final exam')\n",
        "    title_label = Label(window, text = 'Talk Box', font='Arial 20',width = 20)\n",
        "    title_label.grid(row=0, column = 0, padx =5, pady=5)\n",
        "    \n",
        "        \n",
        "    btn = Button(window, text = 'Click me', width = 5, font = 'Arial 25',command = Msgbox)\n",
        "    btn.grid(row = 1, column = 0)\n",
        "    \n",
        "def Msgbox() : \n",
        "       messagebox.askyesno(\"question\",\"당신은 고대인 입니까?\")\n",
        "       yesNoDialog()\n",
        "\n",
        "def yesNoDialog() :\n",
        "    if Msgbox : \n",
        "        messagebox.showinfo(\"--;\", \"저는 현대인 입니다.\")\n",
        "    else: \n",
        "        messagebox.showinfo(\"^^;\", \"저는 고대인 입니다.\")\n",
        "\n",
        "setupGUI()\n",
        "window.mainloop()"
      ],
      "metadata": {
        "id": "bJjP6mImMRl3"
      },
      "execution_count": 30,
      "outputs": []
    },
    {
      "cell_type": "code",
      "source": [
        "# 7번 : \n",
        "\n",
        "import requests\n",
        "import pandas as pd\n",
        "import lxml\n",
        "site = requests.get('https://finance.naver.com/')\n",
        "table = pd.read_html(site.text)\n",
        "print(\"오늘의 금값은 {}원 이며, 어제보다 {}원, {}하였습니다.\".format(table[8].values[1][1],table[8].values[1][2][3:],table[8].values[1][2][:2]))\n",
        "\n"
      ],
      "metadata": {
        "id": "b2kH4reuMJlZ"
      },
      "execution_count": null,
      "outputs": []
    },
    {
      "cell_type": "code",
      "source": [
        "# 8번 :\n",
        "\n",
        "\n",
        "from konlpy.tag import Okt\n",
        "from wordcloud import WordCloud\n",
        "from PIL import Image\n",
        "import numpy as np\n",
        "\n",
        "file = open('naver_toy3.txt', 'r', encoding='utf-8')\n",
        "reply_text = file.readlines()\n",
        "file.close()\n",
        "\n",
        "ok_twitter = Okt()\n",
        "text = ''\n",
        "for sentence in reply_text:\n",
        "    for noun in ok_twitter.nouns(sentence):\n",
        "        if noun in ['영화','때','내'] :\n",
        "          pass\n",
        "        else:\n",
        "          if noun == '토이스토리' : \n",
        "            noun = noun.replace('토이스토리','김재원')\n",
        "          text += noun + ' '\n",
        "\n",
        "\n",
        "mask_image = np.array(Image.open(\"toy.jpg\"))\n",
        "wc = WordCloud(font_path='Junicode-Bold.ttf', \n",
        "               background_color=\"white\", \n",
        "               max_words=500, \n",
        "               mask=mask_image, \n",
        "               max_font_size=50, \n",
        "               colormap='gist_earth_r').generate(text)\n",
        "wc.to_file('wc_result.png')\n",
        " \n",
        "\n",
        "\n"
      ],
      "metadata": {
        "colab": {
          "base_uri": "https://localhost:8080/"
        },
        "id": "qYB0_tDn3gy1",
        "outputId": "3f808dc0-96d8-4419-ab58-b111069dd713"
      },
      "execution_count": null,
      "outputs": [
        {
          "output_type": "execute_result",
          "data": {
            "text/plain": [
              "<wordcloud.wordcloud.WordCloud at 0x7f8a83d434c0>"
            ]
          },
          "metadata": {},
          "execution_count": 23
        }
      ]
    },
    {
      "cell_type": "code",
      "source": [
        "# 9번 : \n",
        "\n",
        "import pandas as pd\n",
        "import matplotlib.pyplot as plt\n",
        "import seaborn as sns\n",
        "\n",
        "titanic = pd.read_csv(\"titanic.csv\")\n",
        "titanic_size = titanic.pivot_table(index = 'who', columns = 'alive',aggfunc='size')\n",
        "sns.heatmap(titanic_size, cmap = sns.light_palette('blue', as_cmap = True), annot=True, fmt ='d')\n",
        "plt.show()\n",
        "\n"
      ],
      "metadata": {
        "id": "cp-al8A3ARS9",
        "colab": {
          "base_uri": "https://localhost:8080/",
          "height": 279
        },
        "outputId": "ff7a942e-78e5-4dfd-e311-703b8531c303"
      },
      "execution_count": null,
      "outputs": [
        {
          "output_type": "display_data",
          "data": {
            "text/plain": [
              "<Figure size 432x288 with 2 Axes>"
            ],
            "image/png": "[encoded data removed]"
          },
          "metadata": {
            "needs_background": "light"
          }
        }
      ]
    }
  ]
}